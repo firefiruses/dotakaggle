{
 "cells": [
  {
   "cell_type": "code",
   "execution_count": 23,
   "metadata": {},
   "outputs": [],
   "source": [
    "import pandas as pd\n",
    "import matplotlib.pyplot as plt\n",
    "import numpy as np\n",
    "import utils as ut\n",
    "import torch.nn as nn\n",
    "import wandb\n",
    "import torch\n",
    "random_seed = 42"
   ]
  },
  {
   "cell_type": "code",
   "execution_count": 24,
   "metadata": {},
   "outputs": [],
   "source": [
    "train_features = pd.read_csv(\"DOTA2_TRAIN_features.csv\")\n",
    "train_targets = pd.read_csv(\"DOTA2_TRAIN_targets.csv\")\n",
    "train = train_features.copy()\n",
    "train[\"target\"] = train_targets[\"radiant_win\"]\n",
    "#train = pd.read_csv('json_train.csv')\n",
    "#train = train.drop(\"Unnamed: 0\", axis = 1)\n",
    "X_train,Y_train, X_test, Y_test = ut.preprocess_train(train, True)\n"
   ]
  },
  {
   "cell_type": "code",
   "execution_count": 25,
   "metadata": {},
   "outputs": [
    {
     "data": {
      "text/html": [
       "<div>\n",
       "<style scoped>\n",
       "    .dataframe tbody tr th:only-of-type {\n",
       "        vertical-align: middle;\n",
       "    }\n",
       "\n",
       "    .dataframe tbody tr th {\n",
       "        vertical-align: top;\n",
       "    }\n",
       "\n",
       "    .dataframe thead th {\n",
       "        text-align: right;\n",
       "    }\n",
       "</style>\n",
       "<table border=\"1\" class=\"dataframe\">\n",
       "  <thead>\n",
       "    <tr style=\"text-align: right;\">\n",
       "      <th></th>\n",
       "      <th>r1_x</th>\n",
       "      <th>r1_y</th>\n",
       "      <th>r2_x</th>\n",
       "      <th>r2_y</th>\n",
       "      <th>r3_x</th>\n",
       "      <th>r3_y</th>\n",
       "      <th>r4_x</th>\n",
       "      <th>r4_y</th>\n",
       "      <th>r5_x</th>\n",
       "      <th>r5_y</th>\n",
       "    </tr>\n",
       "  </thead>\n",
       "  <tbody>\n",
       "    <tr>\n",
       "      <th>492</th>\n",
       "      <td>116.0</td>\n",
       "      <td>160.0</td>\n",
       "      <td>72.0</td>\n",
       "      <td>76.0</td>\n",
       "      <td>82.0</td>\n",
       "      <td>166.0</td>\n",
       "      <td>84.0</td>\n",
       "      <td>130.0</td>\n",
       "      <td>90.0</td>\n",
       "      <td>126.0</td>\n",
       "    </tr>\n",
       "    <tr>\n",
       "      <th>10529</th>\n",
       "      <td>84.0</td>\n",
       "      <td>168.0</td>\n",
       "      <td>170.0</td>\n",
       "      <td>82.0</td>\n",
       "      <td>130.0</td>\n",
       "      <td>130.0</td>\n",
       "      <td>90.0</td>\n",
       "      <td>164.0</td>\n",
       "      <td>86.0</td>\n",
       "      <td>166.0</td>\n",
       "    </tr>\n",
       "    <tr>\n",
       "      <th>366</th>\n",
       "      <td>114.0</td>\n",
       "      <td>110.0</td>\n",
       "      <td>98.0</td>\n",
       "      <td>116.0</td>\n",
       "      <td>72.0</td>\n",
       "      <td>78.0</td>\n",
       "      <td>92.0</td>\n",
       "      <td>118.0</td>\n",
       "      <td>104.0</td>\n",
       "      <td>122.0</td>\n",
       "    </tr>\n",
       "    <tr>\n",
       "      <th>3845</th>\n",
       "      <td>92.0</td>\n",
       "      <td>134.0</td>\n",
       "      <td>106.0</td>\n",
       "      <td>86.0</td>\n",
       "      <td>92.0</td>\n",
       "      <td>138.0</td>\n",
       "      <td>92.0</td>\n",
       "      <td>128.0</td>\n",
       "      <td>110.0</td>\n",
       "      <td>78.0</td>\n",
       "    </tr>\n",
       "    <tr>\n",
       "      <th>18722</th>\n",
       "      <td>178.0</td>\n",
       "      <td>102.0</td>\n",
       "      <td>168.0</td>\n",
       "      <td>96.0</td>\n",
       "      <td>84.0</td>\n",
       "      <td>134.0</td>\n",
       "      <td>74.0</td>\n",
       "      <td>90.0</td>\n",
       "      <td>102.0</td>\n",
       "      <td>114.0</td>\n",
       "    </tr>\n",
       "    <tr>\n",
       "      <th>...</th>\n",
       "      <td>...</td>\n",
       "      <td>...</td>\n",
       "      <td>...</td>\n",
       "      <td>...</td>\n",
       "      <td>...</td>\n",
       "      <td>...</td>\n",
       "      <td>...</td>\n",
       "      <td>...</td>\n",
       "      <td>...</td>\n",
       "      <td>...</td>\n",
       "    </tr>\n",
       "    <tr>\n",
       "      <th>22255</th>\n",
       "      <td>74.0</td>\n",
       "      <td>78.0</td>\n",
       "      <td>86.0</td>\n",
       "      <td>82.0</td>\n",
       "      <td>80.0</td>\n",
       "      <td>82.0</td>\n",
       "      <td>78.0</td>\n",
       "      <td>78.0</td>\n",
       "      <td>78.0</td>\n",
       "      <td>86.0</td>\n",
       "    </tr>\n",
       "    <tr>\n",
       "      <th>5549</th>\n",
       "      <td>102.0</td>\n",
       "      <td>158.0</td>\n",
       "      <td>104.0</td>\n",
       "      <td>160.0</td>\n",
       "      <td>146.0</td>\n",
       "      <td>78.0</td>\n",
       "      <td>150.0</td>\n",
       "      <td>154.0</td>\n",
       "      <td>102.0</td>\n",
       "      <td>152.0</td>\n",
       "    </tr>\n",
       "    <tr>\n",
       "      <th>876</th>\n",
       "      <td>176.0</td>\n",
       "      <td>166.0</td>\n",
       "      <td>168.0</td>\n",
       "      <td>160.0</td>\n",
       "      <td>164.0</td>\n",
       "      <td>156.0</td>\n",
       "      <td>174.0</td>\n",
       "      <td>166.0</td>\n",
       "      <td>72.0</td>\n",
       "      <td>100.0</td>\n",
       "    </tr>\n",
       "    <tr>\n",
       "      <th>16284</th>\n",
       "      <td>92.0</td>\n",
       "      <td>138.0</td>\n",
       "      <td>78.0</td>\n",
       "      <td>130.0</td>\n",
       "      <td>122.0</td>\n",
       "      <td>94.0</td>\n",
       "      <td>78.0</td>\n",
       "      <td>130.0</td>\n",
       "      <td>116.0</td>\n",
       "      <td>118.0</td>\n",
       "    </tr>\n",
       "    <tr>\n",
       "      <th>24390</th>\n",
       "      <td>80.0</td>\n",
       "      <td>120.0</td>\n",
       "      <td>118.0</td>\n",
       "      <td>120.0</td>\n",
       "      <td>122.0</td>\n",
       "      <td>100.0</td>\n",
       "      <td>176.0</td>\n",
       "      <td>90.0</td>\n",
       "      <td>100.0</td>\n",
       "      <td>118.0</td>\n",
       "    </tr>\n",
       "  </tbody>\n",
       "</table>\n",
       "<p>21551 rows × 10 columns</p>\n",
       "</div>"
      ],
      "text/plain": [
       "        r1_x   r1_y   r2_x   r2_y   r3_x   r3_y   r4_x   r4_y   r5_x   r5_y\n",
       "492    116.0  160.0   72.0   76.0   82.0  166.0   84.0  130.0   90.0  126.0\n",
       "10529   84.0  168.0  170.0   82.0  130.0  130.0   90.0  164.0   86.0  166.0\n",
       "366    114.0  110.0   98.0  116.0   72.0   78.0   92.0  118.0  104.0  122.0\n",
       "3845    92.0  134.0  106.0   86.0   92.0  138.0   92.0  128.0  110.0   78.0\n",
       "18722  178.0  102.0  168.0   96.0   84.0  134.0   74.0   90.0  102.0  114.0\n",
       "...      ...    ...    ...    ...    ...    ...    ...    ...    ...    ...\n",
       "22255   74.0   78.0   86.0   82.0   80.0   82.0   78.0   78.0   78.0   86.0\n",
       "5549   102.0  158.0  104.0  160.0  146.0   78.0  150.0  154.0  102.0  152.0\n",
       "876    176.0  166.0  168.0  160.0  164.0  156.0  174.0  166.0   72.0  100.0\n",
       "16284   92.0  138.0   78.0  130.0  122.0   94.0   78.0  130.0  116.0  118.0\n",
       "24390   80.0  120.0  118.0  120.0  122.0  100.0  176.0   90.0  100.0  118.0\n",
       "\n",
       "[21551 rows x 10 columns]"
      ]
     },
     "execution_count": 25,
     "metadata": {},
     "output_type": "execute_result"
    }
   ],
   "source": [
    "X_train"
   ]
  },
  {
   "cell_type": "code",
   "execution_count": 26,
   "metadata": {},
   "outputs": [],
   "source": [
    "train_dataset = ut.MyTensorDataset(torch.FloatTensor(X_train.values), torch.FloatTensor(Y_train.values))\n",
    "test_dataset = ut.MyTensorDataset(torch.FloatTensor(X_test.values), torch.FloatTensor(Y_test.values))\n",
    "train_dataloader = torch.utils.data.DataLoader(train_dataset, batch_size=8, shuffle=True,)\n",
    "test_dataloader = torch.utils.data.DataLoader(test_dataset, batch_size=8, shuffle=False,)"
   ]
  },
  {
   "cell_type": "code",
   "execution_count": 27,
   "metadata": {},
   "outputs": [],
   "source": [
    "size = len(X_train.columns)\n",
    "net = nn.Sequential(nn.Linear(size, size), nn.LeakyReLU() , nn.Linear(size, 1), nn.Sigmoid())\n",
    "n_epoch = 20\n",
    "criterion = nn.BCELoss()\n",
    "optimizer = torch.optim.SGD(net.parameters(), lr=0.001, momentum=0.9)\n",
    "#optimizer = torch.optim.SGD(net.parameters(), lr=1e-1)"
   ]
  },
  {
   "cell_type": "code",
   "execution_count": 28,
   "metadata": {},
   "outputs": [
    {
     "data": {
      "text/plain": [
       "10"
      ]
     },
     "execution_count": 28,
     "metadata": {},
     "output_type": "execute_result"
    }
   ],
   "source": [
    "size"
   ]
  },
  {
   "cell_type": "code",
   "execution_count": 29,
   "metadata": {},
   "outputs": [
    {
     "name": "stdout",
     "output_type": "stream",
     "text": [
      "1/20 current loss: 0.6806763410568237\n",
      "2/20 current loss: 0.6676464080810547\n",
      "3/20 current loss: 0.6986006498336792\n",
      "4/20 current loss: 0.7355412840843201\n",
      "5/20 current loss: 0.7215596437454224\n",
      "6/20 current loss: 0.7060378789901733\n",
      "7/20 current loss: 0.6898570656776428\n",
      "8/20 current loss: 0.6851940751075745\n",
      "9/20 current loss: 0.6882490515708923\n",
      "10/20 current loss: 0.689663290977478\n",
      "11/20 current loss: 0.7030936479568481\n",
      "12/20 current loss: 0.6996074914932251\n",
      "13/20 current loss: 0.6900337934494019\n",
      "14/20 current loss: 0.6724831461906433\n",
      "15/20 current loss: 0.6895832419395447\n",
      "16/20 current loss: 0.6897565126419067\n",
      "17/20 current loss: 0.7010475397109985\n",
      "18/20 current loss: 0.7140077948570251\n",
      "19/20 current loss: 0.7033304572105408\n",
      "20/20 current loss: 0.6861920952796936\n"
     ]
    }
   ],
   "source": [
    "loss_history = []\n",
    "\n",
    "for i in range(n_epoch):\n",
    "    for x_batch, y_batch in train_dataloader:\n",
    "        #print(x_batch)\n",
    "        #y_batch = torch.transpose(y_batch, 0, 1)[0]\n",
    "        #y_batch = y_batch[0]\n",
    "        #print(y_batch)\n",
    "        # Forward\n",
    "        predictions = net(x_batch)\n",
    "        #print(predictions)\n",
    "        loss = criterion(predictions, y_batch)\n",
    "\n",
    "        # Backward\n",
    "        loss.backward()\n",
    "\n",
    "        # Update weights\n",
    "        optimizer.step()\n",
    "        optimizer.zero_grad()\n",
    "\n",
    "        loss_history.append(loss.item())\n",
    "    print(f'{i+1}/{n_epoch} current loss: {loss}')"
   ]
  },
  {
   "cell_type": "code",
   "execution_count": 30,
   "metadata": {},
   "outputs": [],
   "source": [
    "test_preds = np.array([])\n",
    "\n",
    "for x_batch, y_batch in test_dataloader:\n",
    "    predictions = net(x_batch)\n",
    "    predictions = torch.transpose(predictions, 0, 1)[0]\n",
    "    predictions = predictions.detach().numpy()\n",
    "    test_preds = np.append(test_preds, predictions)"
   ]
  },
  {
   "cell_type": "code",
   "execution_count": 31,
   "metadata": {},
   "outputs": [
    {
     "data": {
      "text/plain": [
       "array([0.53087407, 0.53087407, 0.53087407, ..., 0.53087407, 0.53087407,\n",
       "       0.50463825])"
      ]
     },
     "execution_count": 31,
     "metadata": {},
     "output_type": "execute_result"
    }
   ],
   "source": [
    "test_preds "
   ]
  },
  {
   "cell_type": "code",
   "execution_count": 32,
   "metadata": {},
   "outputs": [
    {
     "name": "stdout",
     "output_type": "stream",
     "text": [
      "ROC-AUC score : 0.5166310778533824\n"
     ]
    }
   ],
   "source": [
    "from sklearn.metrics import roc_auc_score\n",
    "#print(f\"Score : {model.score(X_test, Y_test)}\")\n",
    "print(f\"ROC-AUC score : {roc_auc_score(Y_test, test_preds)}\")"
   ]
  },
  {
   "cell_type": "code",
   "execution_count": 33,
   "metadata": {},
   "outputs": [],
   "source": [
    "ut.writeNN(net)"
   ]
  }
 ],
 "metadata": {
  "kernelspec": {
   "display_name": "Python 3",
   "language": "python",
   "name": "python3"
  },
  "language_info": {
   "codemirror_mode": {
    "name": "ipython",
    "version": 3
   },
   "file_extension": ".py",
   "mimetype": "text/x-python",
   "name": "python",
   "nbconvert_exporter": "python",
   "pygments_lexer": "ipython3",
   "version": "3.11.0"
  }
 },
 "nbformat": 4,
 "nbformat_minor": 2
}
