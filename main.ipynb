{
 "cells": [
  {
   "cell_type": "code",
   "execution_count": 1,
   "metadata": {},
   "outputs": [],
   "source": [
    "import pandas as pd\n",
    "import matplotlib.pyplot as plt\n",
    "import numpy as np\n",
    "import utils as ut\n",
    "import torch.nn as nn\n",
    "import wandb\n",
    "import torch\n",
    "random_seed = 42"
   ]
  },
  {
   "cell_type": "code",
   "execution_count": 2,
   "metadata": {},
   "outputs": [],
   "source": [
    "train_features = pd.read_csv(\"DOTA2_TRAIN_features.csv\")\n",
    "train_targets = pd.read_csv(\"DOTA2_TRAIN_targets.csv\")\n",
    "train = train_features.copy()\n",
    "train[\"target\"] = train_targets[\"radiant_win\"]\n",
    "X_train,Y_train, X_test, Y_test = ut.preprocess_train(train, True)"
   ]
  },
  {
   "cell_type": "code",
   "execution_count": 3,
   "metadata": {},
   "outputs": [
    {
     "data": {
      "text/plain": [
       "(12713, 245)"
      ]
     },
     "execution_count": 3,
     "metadata": {},
     "output_type": "execute_result"
    }
   ],
   "source": [
    "X_train.shape"
   ]
  },
  {
   "cell_type": "code",
   "execution_count": 4,
   "metadata": {},
   "outputs": [],
   "source": [
    "train_dataset = ut.MyTensorDataset(torch.FloatTensor(X_train.values), torch.LongTensor(Y_train.values))\n",
    "test_dataset = ut.MyTensorDataset(torch.FloatTensor(X_test.values), torch.LongTensor(Y_test.values))\n",
    "train_dataloader = torch.utils.data.DataLoader(train_dataset, batch_size=8, shuffle=True,)\n",
    "test_dataloader = torch.utils.data.DataLoader(test_dataset, batch_size=8, shuffle=False,)"
   ]
  },
  {
   "cell_type": "code",
   "execution_count": 5,
   "metadata": {},
   "outputs": [],
   "source": [
    "net = nn.Sequential(nn.Linear(245, 1), nn.Sigmoid())\n",
    "n_epoch = 20\n",
    "criterion = nn.HingeEmbeddingLoss()\n",
    "optimizer = torch.optim.SGD(net.parameters(), lr=0.001, momentum=0.9)"
   ]
  },
  {
   "cell_type": "code",
   "execution_count": 6,
   "metadata": {},
   "outputs": [
    {
     "name": "stdout",
     "output_type": "stream",
     "text": [
      "Current loss: 0.000000\n",
      "Current loss: 0.000000\n",
      "Current loss: 1.000000\n",
      "Current loss: 0.000000\n",
      "Current loss: 1.000000\n",
      "Current loss: 0.000000\n",
      "Current loss: 1.000000\n",
      "Current loss: 0.000000\n",
      "Current loss: 0.000000\n",
      "Current loss: 1.000000\n",
      "Current loss: 0.000000\n",
      "Current loss: 1.000000\n",
      "Current loss: 1.000000\n",
      "Current loss: 0.000000\n",
      "Current loss: 0.000000\n",
      "Current loss: 0.000000\n",
      "Current loss: 1.000000\n",
      "Current loss: 0.000000\n",
      "Current loss: 0.000000\n",
      "Current loss: 1.000000\n"
     ]
    }
   ],
   "source": [
    "loss_history = []\n",
    "\n",
    "for i in range(n_epoch):\n",
    "    for x_batch, y_batch in train_dataloader:\n",
    "        #print(x_batch)\n",
    "        #y_batch = torch.transpose(y_batch, 0, 1)[0]\n",
    "        #y_batch = y_batch[0]\n",
    "        #print(y_batch)\n",
    "        # Forward\n",
    "        predictions = net(x_batch)\n",
    "        #print(predictions)\n",
    "        loss = criterion(predictions, y_batch)\n",
    "\n",
    "        # Backward\n",
    "        loss.backward()\n",
    "\n",
    "        # Update weights\n",
    "        optimizer.step()\n",
    "        optimizer.zero_grad()\n",
    "\n",
    "        loss_history.append(loss.item())\n",
    "    print('Current loss: %f' % loss)"
   ]
  },
  {
   "cell_type": "code",
   "execution_count": 7,
   "metadata": {},
   "outputs": [],
   "source": [
    "test_preds = np.array([])\n",
    "\n",
    "for x_batch, y_batch in test_dataloader:\n",
    "    predictions = net(x_batch)\n",
    "    predictions = torch.transpose(predictions, 0, 1)[0]\n",
    "    predictions = predictions.detach().numpy()\n",
    "    test_preds = np.append(test_preds, predictions)"
   ]
  },
  {
   "cell_type": "code",
   "execution_count": 8,
   "metadata": {},
   "outputs": [
    {
     "data": {
      "text/plain": [
       "array([0., 0., 0., ..., 0., 0., 0.])"
      ]
     },
     "execution_count": 8,
     "metadata": {},
     "output_type": "execute_result"
    }
   ],
   "source": [
    "test_preds "
   ]
  },
  {
   "cell_type": "code",
   "execution_count": 9,
   "metadata": {},
   "outputs": [
    {
     "name": "stdout",
     "output_type": "stream",
     "text": [
      "ROC-AUC score : 0.4996706192358366\n"
     ]
    }
   ],
   "source": [
    "from sklearn.metrics import roc_auc_score\n",
    "#print(f\"Score : {model.score(X_test, Y_test)}\")\n",
    "print(f\"ROC-AUC score : {roc_auc_score(Y_test, test_preds)}\")"
   ]
  },
  {
   "cell_type": "code",
   "execution_count": 10,
   "metadata": {},
   "outputs": [],
   "source": [
    "ut.writeNN(net)"
   ]
  }
 ],
 "metadata": {
  "kernelspec": {
   "display_name": "Python 3",
   "language": "python",
   "name": "python3"
  },
  "language_info": {
   "codemirror_mode": {
    "name": "ipython",
    "version": 3
   },
   "file_extension": ".py",
   "mimetype": "text/x-python",
   "name": "python",
   "nbconvert_exporter": "python",
   "pygments_lexer": "ipython3",
   "version": "3.11.0"
  }
 },
 "nbformat": 4,
 "nbformat_minor": 2
}
