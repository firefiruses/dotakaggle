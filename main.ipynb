{
 "cells": [
  {
   "cell_type": "code",
   "execution_count": 13,
   "metadata": {},
   "outputs": [],
   "source": [
    "import pandas as pd\n",
    "import matplotlib.pyplot as plt\n",
    "import numpy as np\n",
    "random_seed = 42"
   ]
  },
  {
   "cell_type": "code",
   "execution_count": 14,
   "metadata": {},
   "outputs": [],
   "source": [
    "train_features = pd.read_csv(\"DOTA2_TRAIN_features.csv\")\n",
    "train_targets = pd.read_csv(\"DOTA2_TRAIN_targets.csv\")\n",
    "train = train_features.copy()\n",
    "train[\"target\"] = train_targets[\"radiant_win\"]"
   ]
  },
  {
   "cell_type": "code",
   "execution_count": 15,
   "metadata": {},
   "outputs": [],
   "source": [
    "from sklearn.model_selection import train_test_split\n",
    "def preprocess_train(_data, is_remove_outliers):\n",
    "    data = _data.copy()\n",
    "    data = data.drop(\"match_id\", axis = 1)\n",
    "    if is_remove_outliers:\n",
    "        data = delete_outliers(data)\n",
    "    data = data.dropna()\n",
    "    return split_train(data)\n",
    "\n",
    "def split_train(_data):\n",
    "    raw_train, raw_test = train_test_split(_data, test_size=0.2, random_state=random_seed)\n",
    "    Y_train = pd.DataFrame(raw_train['target'])\n",
    "    X_train = raw_train.drop('target', axis = 1)\n",
    "    Y_test = pd.DataFrame(raw_test['target'])\n",
    "    X_test = raw_test.drop('target', axis = 1)\n",
    "    Y_train[\"target\"] = Y_train['target'].astype(int)\n",
    "    Y_test[\"target\"] = Y_test['target'].astype(int)\n",
    "    return X_train,Y_train, X_test, Y_test\n",
    "\n",
    "def delete_outliers(_data):\n",
    "    data = _data.copy()\n",
    "    data = data.where(data[\"game_time\"] < 10000000)\n",
    "    return data"
   ]
  },
  {
   "cell_type": "code",
   "execution_count": 16,
   "metadata": {},
   "outputs": [],
   "source": [
    "X_train,Y_train, X_test, Y_test = preprocess_train(train, True)"
   ]
  },
  {
   "cell_type": "code",
   "execution_count": 17,
   "metadata": {},
   "outputs": [
    {
     "name": "stderr",
     "output_type": "stream",
     "text": [
      "c:\\Users\\Oleg\\AppData\\Local\\Programs\\Python\\Python311\\Lib\\site-packages\\sklearn\\utils\\validation.py:1183: DataConversionWarning: A column-vector y was passed when a 1d array was expected. Please change the shape of y to (n_samples, ), for example using ravel().\n",
      "  y = column_or_1d(y, warn=True)\n"
     ]
    },
    {
     "ename": "AttributeError",
     "evalue": "'SVC' object has no attribute 'best_params_'",
     "output_type": "error",
     "traceback": [
      "\u001b[1;31m---------------------------------------------------------------------------\u001b[0m",
      "\u001b[1;31mAttributeError\u001b[0m                            Traceback (most recent call last)",
      "\u001b[1;32mc:\\Users\\Oleg\\Desktop\\dotakaggle\\main.ipynb Cell 5\u001b[0m line \u001b[0;36m5\n\u001b[0;32m      <a href='vscode-notebook-cell:/c%3A/Users/Oleg/Desktop/dotakaggle/main.ipynb#W4sZmlsZQ%3D%3D?line=2'>3</a>\u001b[0m model \u001b[39m=\u001b[39m SVC(kernel\u001b[39m=\u001b[39m\u001b[39m'\u001b[39m\u001b[39mrbf\u001b[39m\u001b[39m'\u001b[39m, gamma\u001b[39m=\u001b[39m \u001b[39m10\u001b[39m, C\u001b[39m=\u001b[39m\u001b[39m10\u001b[39m)\n\u001b[0;32m      <a href='vscode-notebook-cell:/c%3A/Users/Oleg/Desktop/dotakaggle/main.ipynb#W4sZmlsZQ%3D%3D?line=3'>4</a>\u001b[0m model\u001b[39m.\u001b[39mfit(X_train, Y_train)\n\u001b[1;32m----> <a href='vscode-notebook-cell:/c%3A/Users/Oleg/Desktop/dotakaggle/main.ipynb#W4sZmlsZQ%3D%3D?line=4'>5</a>\u001b[0m model\u001b[39m.\u001b[39;49mbest_params_\n",
      "\u001b[1;31mAttributeError\u001b[0m: 'SVC' object has no attribute 'best_params_'"
     ]
    }
   ],
   "source": [
    "from sklearn.svm import SVC\n",
    "from sklearn.model_selection import GridSearchCV\n",
    "model = SVC(kernel='rbf', gamma= 10, C=10)\n",
    "model.fit(X_train, Y_train)"
   ]
  },
  {
   "cell_type": "code",
   "execution_count": null,
   "metadata": {},
   "outputs": [
    {
     "name": "stdout",
     "output_type": "stream",
     "text": [
      "Score : 0.5\n",
      "ROC-AUC score : 0.5\n"
     ]
    }
   ],
   "source": [
    "from sklearn.metrics import roc_auc_score\n",
    "print(f\"Score : {model.score(X_test, Y_test)}\")\n",
    "print(f\"ROC-AUC score : {roc_auc_score(Y_test, model.predict(X_test))}\")"
   ]
  },
  {
   "cell_type": "code",
   "execution_count": null,
   "metadata": {},
   "outputs": [],
   "source": [
    "from write import write\n",
    "write(model)"
   ]
  }
 ],
 "metadata": {
  "kernelspec": {
   "display_name": "Python 3",
   "language": "python",
   "name": "python3"
  },
  "language_info": {
   "codemirror_mode": {
    "name": "ipython",
    "version": 3
   },
   "file_extension": ".py",
   "mimetype": "text/x-python",
   "name": "python",
   "nbconvert_exporter": "python",
   "pygments_lexer": "ipython3",
   "version": "3.11.0"
  }
 },
 "nbformat": 4,
 "nbformat_minor": 2
}
